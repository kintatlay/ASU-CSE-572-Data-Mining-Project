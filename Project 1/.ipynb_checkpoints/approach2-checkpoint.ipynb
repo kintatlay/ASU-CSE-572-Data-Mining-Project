{
 "cells": [
  {
   "cell_type": "code",
   "execution_count": 1,
   "metadata": {},
   "outputs": [],
   "source": [
    "import pandas as pd"
   ]
  },
  {
   "cell_type": "code",
   "execution_count": 2,
   "metadata": {},
   "outputs": [
    {
     "name": "stderr",
     "output_type": "stream",
     "text": [
      "/Users/kinlay/anaconda3/lib/python3.7/site-packages/IPython/core/interactiveshell.py:3063: DtypeWarning: Columns (32) have mixed types. Specify dtype option on import or set low_memory=False.\n",
      "  interactivity=interactivity, compiler=compiler, result=result)\n",
      "/Users/kinlay/anaconda3/lib/python3.7/site-packages/IPython/core/interactiveshell.py:3063: DtypeWarning: Columns (13,43) have mixed types. Specify dtype option on import or set low_memory=False.\n",
      "  interactivity=interactivity, compiler=compiler, result=result)\n"
     ]
    }
   ],
   "source": [
    "cgmdata = pd.read_csv('./source/CGMData.csv')\n",
    "insulindata = pd.read_csv('./source/InsulinData.csv')\n",
    "reverse_insulindata = insulindata.loc[::-1,:]"
   ]
  },
  {
   "cell_type": "code",
   "execution_count": 4,
   "metadata": {},
   "outputs": [],
   "source": [
    "# Filter rows for \"AUTO MODE ACTIVE PLGM OFF\" keyword to identify for manual and auto mode start date and time in InsulinData file\n",
    "# Reference: https://stackoverflow.com/questions/22485375/efficiently-select-rows-that-match-one-of-several-values-in-pandas-dataframe\n",
    "auto_mode_reverse_insulindata = reverse_insulindata[reverse_insulindata['Alarm'].isin(['AUTO MODE ACTIVE PLGM OFF'])]\n",
    "# auto_mode_reverse_insulindata"
   ]
  },
  {
   "cell_type": "code",
   "execution_count": 5,
   "metadata": {},
   "outputs": [],
   "source": [
    "# Get the start and end index of manual and auto modes of the InsulinData file\n",
    "auto_mode_start_index = auto_mode_reverse_insulindata['Index'].iloc[0]\n",
    "# auto_mode_end_index = auto_mode_reverse_insulindata['Index'].iloc[1] + 1\n",
    "manual_mode_start_index = reverse_insulindata[\"Index\"].iloc[0]\n",
    "manual_mode_end_index = auto_mode_start_index"
   ]
  },
  {
   "cell_type": "code",
   "execution_count": 6,
   "metadata": {},
   "outputs": [],
   "source": [
    "# Get the start and end date and time of the manual and auto modes of the InsulinData file\n",
    "manual_mode_start_date = insulindata[insulindata['Index'] == manual_mode_start_index]['Date'].iloc[0]\n",
    "manual_mode_start_time = insulindata[insulindata['Index'] == manual_mode_start_index]['Time'].iloc[0]\n",
    "manual_mode_end_date = insulindata[insulindata['Index'] == manual_mode_end_index]['Date'].iloc[0]\n",
    "manual_mode_end_time = insulindata[insulindata['Index'] == manual_mode_end_index]['Time'].iloc[0]\n",
    "auto_mode_start_date = insulindata[insulindata['Index'] == auto_mode_start_index]['Date'].iloc[0]\n",
    "auto_mode_start_time = insulindata[insulindata['Index'] == auto_mode_start_index]['Time'].iloc[0]"
   ]
  },
  {
   "cell_type": "code",
   "execution_count": 7,
   "metadata": {},
   "outputs": [],
   "source": [
    "# Combine values in column \"Date\" and \"Time\" into a new column named \"Date Time\" and change the data type to datetime\n",
    "cgmdata['Date Time'] = pd.to_datetime(cgmdata['Date'] + ' ' + cgmdata['Time'])"
   ]
  },
  {
   "cell_type": "code",
   "execution_count": 8,
   "metadata": {},
   "outputs": [],
   "source": [
    "# Filter out data that is between the range of manual mode\n",
    "wholeday_manual_cgmdata = cgmdata.loc[(cgmdata['Date Time'] >= manual_mode_start_date + ' ' + manual_mode_start_time) & (cgmdata['Date Time'] <= manual_mode_end_date + ' ' + manual_mode_end_time)][['Index', 'Date', 'Time', 'Sensor Glucose (mg/dL)', 'Date Time']]\n",
    "# wholeday_manual_cgmdata\n",
    "\n",
    "# Filter out data that is between the range of auto mode\n",
    "wholeday_auto_cgmdata = cgmdata.loc[(cgmdata['Date Time'] >= auto_mode_start_date + ' ' + auto_mode_start_time)][['Index', 'Date', 'Time', 'Sensor Glucose (mg/dL)', 'Date Time']]\n",
    "# wholeday_auto_cgmdata"
   ]
  },
  {
   "cell_type": "code",
   "execution_count": 9,
   "metadata": {},
   "outputs": [],
   "source": [
    "# Drop the rows with \"NaN\" value\n",
    "wholeday_manual_cgmdata = wholeday_manual_cgmdata.dropna()\n",
    "# Drop the rows with \"NaN\" value\n",
    "wholeday_auto_cgmdata = wholeday_auto_cgmdata.dropna()"
   ]
  },
  {
   "cell_type": "code",
   "execution_count": 11,
   "metadata": {},
   "outputs": [],
   "source": [
    "# Filter out rows if there is less than 230 data given in a particular day\n",
    "# The 230 is set by the 80% rule (288 * 0.80 = 230.4)\n",
    "wholeday_auto_cgmdata = wholeday_auto_cgmdata.groupby('Date').filter(lambda x : len(x)>230)"
   ]
  },
  {
   "cell_type": "code",
   "execution_count": 12,
   "metadata": {},
   "outputs": [],
   "source": [
    "# Filter out the data based on \"Sensor Glucose (mg/dL)\" values\n",
    "\n",
    "greater_than_180_wholeday_manual_cgmdata = wholeday_manual_cgmdata.loc[wholeday_manual_cgmdata['Sensor Glucose (mg/dL)'] > 180]\n",
    "# greater_than_180_wholeday_manual_cgmdata\n",
    "greater_than_250_wholeday_manual_cgmdata = wholeday_manual_cgmdata.loc[wholeday_manual_cgmdata['Sensor Glucose (mg/dL)'] > 250]\n",
    "# greater_than_250_wholeday_manual_cgmdata\n",
    "greater_equal_70_and_less_equal_180_wholeday_manual_cgmdata = wholeday_manual_cgmdata.loc[(wholeday_manual_cgmdata['Sensor Glucose (mg/dL)'] >= 70) & (wholeday_manual_cgmdata['Sensor Glucose (mg/dL)'] <= 180)]\n",
    "# greater_equal_70_and_less_equal_180_wholeday_manual_cgmdata\n",
    "greater_equal_70_and_less_equal_150_wholeday_manual_cgmdata = wholeday_manual_cgmdata.loc[(wholeday_manual_cgmdata['Sensor Glucose (mg/dL)'] >= 70) & (wholeday_manual_cgmdata['Sensor Glucose (mg/dL)'] <= 150)]\n",
    "# greater_equal_70_and_less_equal_150_wholeday_manual_cgmdata\n",
    "less_than_70_wholeday_manual_cgmdata = wholeday_manual_cgmdata.loc[wholeday_manual_cgmdata['Sensor Glucose (mg/dL)'] < 70]\n",
    "# less_than_70_wholeday_manual_cgmdata\n",
    "less_than_54_wholeday_manual_cgmdata = wholeday_manual_cgmdata.loc[wholeday_manual_cgmdata['Sensor Glucose (mg/dL)'] < 54]\n",
    "# less_than_54_wholeday_manual_cgmdata"
   ]
  },
  {
   "cell_type": "code",
   "execution_count": 13,
   "metadata": {},
   "outputs": [],
   "source": [
    "# Filter out the data based on \"Sensor Glucose (mg/dL)\" values\n",
    "\n",
    "greater_than_180_wholeday_auto_cgmdata = wholeday_auto_cgmdata.loc[wholeday_auto_cgmdata['Sensor Glucose (mg/dL)'] > 180]\n",
    "# greater_than_180_wholeday_auto_cgmdata\n",
    "greater_than_250_wholeday_auto_cgmdata = wholeday_auto_cgmdata.loc[wholeday_auto_cgmdata['Sensor Glucose (mg/dL)'] > 250]\n",
    "# greater_than_250_wholeday_auto_cgmdata\n",
    "greater_equal_70_and_less_equal_180_wholeday_auto_cgmdata = wholeday_auto_cgmdata.loc[(wholeday_auto_cgmdata['Sensor Glucose (mg/dL)'] >= 70) & (wholeday_auto_cgmdata['Sensor Glucose (mg/dL)'] <= 180)]\n",
    "# greater_equal_70_and_less_equal_180_wholeday_auto_cgmdata\n",
    "greater_equal_70_and_less_equal_150_wholeday_auto_cgmdata = wholeday_auto_cgmdata.loc[(wholeday_auto_cgmdata['Sensor Glucose (mg/dL)'] >= 70) & (wholeday_auto_cgmdata['Sensor Glucose (mg/dL)'] <= 150)]\n",
    "# greater_equal_70_and_less_equal_150_wholeday_auto_cgmdata\n",
    "less_than_70_wholeday_auto_cgmdata = wholeday_auto_cgmdata.loc[wholeday_auto_cgmdata['Sensor Glucose (mg/dL)'] < 70]\n",
    "# less_than_70_wholeday_auto_cgmdata\n",
    "less_than_54_wholeday_auto_cgmdata = wholeday_auto_cgmdata.loc[wholeday_auto_cgmdata['Sensor Glucose (mg/dL)'] < 54]\n",
    "# less_than_54_wholeday_auto_cgmdata"
   ]
  },
  {
   "cell_type": "code",
   "execution_count": 14,
   "metadata": {},
   "outputs": [],
   "source": [
    "# Create a new dataframe that counts the number of value per date\n",
    "\n",
    "count_greater_than_180_wholeday_manual_cgmdata = greater_than_180_wholeday_manual_cgmdata.groupby(['Date'], as_index=False).count()\n",
    "# count_greater_than_180_wholeday_manual_cgmdata\n",
    "count_greater_than_250_wholeday_manual_cgmdata = greater_than_250_wholeday_manual_cgmdata.groupby(['Date'], as_index=False).count()\n",
    "# count_greater_than_250_wholeday_manual_cgmdata\n",
    "count_greater_equal_70_and_less_equal_180_wholeday_manual_cgmdata = greater_equal_70_and_less_equal_180_wholeday_manual_cgmdata.groupby(['Date'], as_index=False).count()\n",
    "# count_greater_equal_70_and_less_equal_180_wholeday_manual_cgmdata\n",
    "count_greater_equal_70_and_less_equal_150_wholeday_manual_cgmdata = greater_equal_70_and_less_equal_150_wholeday_manual_cgmdata.groupby(['Date'], as_index=False).count()\n",
    "# count_greater_equal_70_and_less_equal_150_wholeday_manual_cgmdata\n",
    "count_less_than_70_wholeday_manual_cgmdata = less_than_70_wholeday_manual_cgmdata.groupby(['Date'], as_index=False).count()\n",
    "# count_less_than_70_wholeday_manual_cgmdata\n",
    "count_less_than_54_wholeday_manual_cgmdata = less_than_54_wholeday_manual_cgmdata.groupby(['Date'], as_index=False).count()\n",
    "# count_less_than_54_wholeday_manual_cgmdata"
   ]
  },
  {
   "cell_type": "code",
   "execution_count": 15,
   "metadata": {},
   "outputs": [],
   "source": [
    "# Create a new dataframe that counts the number of value per date\n",
    "\n",
    "count_greater_than_180_wholeday_auto_cgmdata = greater_than_180_wholeday_auto_cgmdata.groupby(['Date'], as_index=False).count()\n",
    "# count_greater_than_180_wholeday_auto_cgmdata\n",
    "count_greater_than_250_wholeday_auto_cgmdata = greater_than_250_wholeday_auto_cgmdata.groupby(['Date'], as_index=False).count()\n",
    "# count_greater_than_250_wholeday_auto_cgmdata\n",
    "count_greater_equal_70_and_less_equal_180_wholeday_auto_cgmdata = greater_equal_70_and_less_equal_180_wholeday_auto_cgmdata.groupby(['Date'], as_index=False).count()\n",
    "# count_greater_equal_70_and_less_equal_180_wholeday_auto_cgmdata\n",
    "count_greater_equal_70_and_less_equal_150_wholeday_auto_cgmdata = greater_equal_70_and_less_equal_150_wholeday_auto_cgmdata.groupby(['Date'], as_index=False).count()\n",
    "# count_greater_equal_70_and_less_equal_150_wholeday_auto_cgmdata\n",
    "count_less_than_70_wholeday_auto_cgmdata = less_than_70_wholeday_auto_cgmdata.groupby(['Date'], as_index=False).count()\n",
    "# count_less_than_70_wholeday_auto_cgmdata\n",
    "count_less_than_54_wholeday_auto_cgmdata = less_than_54_wholeday_auto_cgmdata.groupby(['Date'], as_index=False).count()\n",
    "# count_less_than_54_wholeday_auto_cgmdata"
   ]
  },
  {
   "cell_type": "code",
   "execution_count": 16,
   "metadata": {},
   "outputs": [],
   "source": [
    "# Create a new column named \"Whole Day Percentage\" to get the percentage per day\n",
    "\n",
    "count_greater_than_180_wholeday_manual_cgmdata['Whole Day Percentage'] = 100 * count_greater_than_180_wholeday_manual_cgmdata['Date Time'] / 288\n",
    "# count_greater_than_180_wholeday_manual_cgmdata\n",
    "count_greater_than_250_wholeday_manual_cgmdata['Whole Day Percentage'] = 100 * count_greater_than_250_wholeday_manual_cgmdata['Date Time'] / 288\n",
    "# count_greater_than_250_wholeday_manual_cgmdata\n",
    "count_greater_equal_70_and_less_equal_180_wholeday_manual_cgmdata['Whole Day Percentage'] = 100 * count_greater_equal_70_and_less_equal_180_wholeday_manual_cgmdata['Date Time'] / 288\n",
    "# count_greater_equal_70_and_less_equal_180_wholeday_manual_cgmdata\n",
    "count_greater_equal_70_and_less_equal_150_wholeday_manual_cgmdata['Whole Day Percentage'] = 100 * count_greater_equal_70_and_less_equal_150_wholeday_manual_cgmdata['Date Time'] / 288\n",
    "# count_greater_equal_70_and_less_equal_150_wholeday_manual_cgmdata\n",
    "count_less_than_70_wholeday_manual_cgmdata['Whole Day Percentage'] = 100 * count_less_than_70_wholeday_manual_cgmdata['Date Time'] / 288\n",
    "# count_less_than_70_wholeday_manual_cgmdata\n",
    "count_less_than_54_wholeday_manual_cgmdata['Whole Day Percentage'] = 100* count_less_than_54_wholeday_manual_cgmdata['Date Time'] / 288\n",
    "# count_less_than_54_wholeday_manual_cgmdata"
   ]
  },
  {
   "cell_type": "code",
   "execution_count": 17,
   "metadata": {},
   "outputs": [],
   "source": [
    "# Create a new column named \"Whole Day Percentage\" to get the percentage per day\n",
    "\n",
    "count_greater_than_180_wholeday_auto_cgmdata['Whole Day Percentage'] = 100 * count_greater_than_180_wholeday_auto_cgmdata['Date Time'] / 288\n",
    "# count_greater_than_180_wholeday_auto_cgmdata\n",
    "count_greater_than_250_wholeday_auto_cgmdata['Whole Day Percentage'] = 100 * count_greater_than_250_wholeday_auto_cgmdata['Date Time'] / 288\n",
    "# count_greater_than_250_wholeday_manual_cgmdata\n",
    "count_greater_equal_70_and_less_equal_180_wholeday_auto_cgmdata['Whole Day Percentage'] = 100 * count_greater_equal_70_and_less_equal_180_wholeday_auto_cgmdata['Date Time'] / 288\n",
    "# count_greater_equal_70_and_less_equal_180_wholeday_auto_cgmdata\n",
    "count_greater_equal_70_and_less_equal_150_wholeday_auto_cgmdata['Whole Day Percentage'] = 100 * count_greater_equal_70_and_less_equal_150_wholeday_auto_cgmdata['Date Time'] / 288\n",
    "# count_greater_equal_70_and_less_equal_150_wholeday_auto_cgmdata\n",
    "count_less_than_70_wholeday_auto_cgmdata['Whole Day Percentage'] = 100 * count_less_than_70_wholeday_auto_cgmdata['Date Time'] / 288\n",
    "# count_less_than_70_wholeday_auto_cgmdata\n",
    "count_less_than_54_wholeday_auto_cgmdata['Whole Day Percentage'] = 100 * count_less_than_54_wholeday_auto_cgmdata['Date Time'] / 288\n",
    "# count_less_than_54_wholeday_auto_cgmdata"
   ]
  },
  {
   "cell_type": "code",
   "execution_count": 18,
   "metadata": {},
   "outputs": [
    {
     "name": "stdout",
     "output_type": "stream",
     "text": [
      "count_greater_than_180_wholeday_manual_cgmdata_percentage:  27\n",
      "count_greater_than_250_wholeday_manual_cgmdata_percentage:  12\n",
      "count_greater_equal_70_and_less_equal_180_wholeday_manual_cgmdata_percentage:  52\n",
      "count_greater_equal_70_and_less_equal_150_wholeday_manual_cgmdata_percentage:  40\n",
      "count_less_than_70_wholeday_manual_cgmdata_percentage:  8\n",
      "count_less_than_54_wholeday_manual_cgmdata_percentage:  3\n",
      "count_greater_than_180_wholeday_auto_cgmdata_percentage: 23\n",
      "count_greater_than_250_wholeday_auto_cgmdata_percentage: 7\n",
      "count_greater_equal_70_and_less_equal_180_wholeday_auto_cgmdata_percentage: 69\n",
      "count_greater_equal_70_and_less_equal_150_wholeday_auto_cgmdata_percentage: 54\n",
      "count_less_than_70_wholeday_auto_cgmdata_percentage: 6\n",
      "count_less_than_54_wholeday_auto_cgmdata_percentage: 3\n"
     ]
    }
   ],
   "source": [
    "# Find the mean of the whole day percentage and round it to whole number\n",
    "\n",
    "count_greater_than_180_wholeday_manual_cgmdata_percentage = round(count_greater_than_180_wholeday_manual_cgmdata['Whole Day Percentage'].mean())\n",
    "count_greater_than_250_wholeday_manual_cgmdata_percentage = round(count_greater_than_250_wholeday_manual_cgmdata['Whole Day Percentage'].mean())\n",
    "count_greater_equal_70_and_less_equal_180_wholeday_manual_cgmdata_percentage = round(count_greater_equal_70_and_less_equal_180_wholeday_manual_cgmdata['Whole Day Percentage'].mean())\n",
    "count_greater_equal_70_and_less_equal_150_wholeday_manual_cgmdata_percentage = round(count_greater_equal_70_and_less_equal_150_wholeday_manual_cgmdata['Whole Day Percentage'].mean())\n",
    "count_less_than_70_wholeday_manual_cgmdata_percentage = round(count_less_than_70_wholeday_manual_cgmdata['Whole Day Percentage'].mean())\n",
    "count_less_than_54_wholeday_manual_cgmdata_percentage = round(count_less_than_54_wholeday_manual_cgmdata['Whole Day Percentage'].mean())\n",
    "\n",
    "count_greater_than_180_wholeday_auto_cgmdata_percentage = round(count_greater_than_180_wholeday_auto_cgmdata['Whole Day Percentage'].mean())\n",
    "count_greater_than_250_wholeday_auto_cgmdata_percentage = round(count_greater_than_250_wholeday_auto_cgmdata['Whole Day Percentage'].mean())\n",
    "count_greater_equal_70_and_less_equal_180_wholeday_auto_cgmdata_percentage = round(count_greater_equal_70_and_less_equal_180_wholeday_auto_cgmdata['Whole Day Percentage'].mean())\n",
    "count_greater_equal_70_and_less_equal_150_wholeday_auto_cgmdata_percentage = round(count_greater_equal_70_and_less_equal_150_wholeday_auto_cgmdata['Whole Day Percentage'].mean())\n",
    "count_less_than_70_wholeday_auto_cgmdata_percentage = round(count_less_than_70_wholeday_auto_cgmdata['Whole Day Percentage'].mean())\n",
    "count_less_than_54_wholeday_auto_cgmdata_percentage = round(count_less_than_54_wholeday_auto_cgmdata['Whole Day Percentage'].mean())\n",
    "\n",
    "print('count_greater_than_180_wholeday_manual_cgmdata_percentage: ', count_greater_than_180_wholeday_manual_cgmdata_percentage)\n",
    "print('count_greater_than_250_wholeday_manual_cgmdata_percentage: ', count_greater_than_250_wholeday_manual_cgmdata_percentage)\n",
    "print('count_greater_equal_70_and_less_equal_180_wholeday_manual_cgmdata_percentage: ', count_greater_equal_70_and_less_equal_180_wholeday_manual_cgmdata_percentage)\n",
    "print('count_greater_equal_70_and_less_equal_150_wholeday_manual_cgmdata_percentage: ', count_greater_equal_70_and_less_equal_150_wholeday_manual_cgmdata_percentage)\n",
    "print('count_less_than_70_wholeday_manual_cgmdata_percentage: ', count_less_than_70_wholeday_manual_cgmdata_percentage)\n",
    "print('count_less_than_54_wholeday_manual_cgmdata_percentage: ', count_less_than_54_wholeday_manual_cgmdata_percentage)\n",
    "\n",
    "\n",
    "print('count_greater_than_180_wholeday_auto_cgmdata_percentage:', count_greater_than_180_wholeday_auto_cgmdata_percentage)\n",
    "print('count_greater_than_250_wholeday_auto_cgmdata_percentage:', count_greater_than_250_wholeday_auto_cgmdata_percentage)\n",
    "print('count_greater_equal_70_and_less_equal_180_wholeday_auto_cgmdata_percentage:', count_greater_equal_70_and_less_equal_180_wholeday_auto_cgmdata_percentage)\n",
    "print('count_greater_equal_70_and_less_equal_150_wholeday_auto_cgmdata_percentage:', count_greater_equal_70_and_less_equal_150_wholeday_auto_cgmdata_percentage)\n",
    "print('count_less_than_70_wholeday_auto_cgmdata_percentage:', count_less_than_70_wholeday_auto_cgmdata_percentage)\n",
    "print('count_less_than_54_wholeday_auto_cgmdata_percentage:', count_less_than_54_wholeday_auto_cgmdata_percentage)"
   ]
  },
  {
   "cell_type": "code",
   "execution_count": null,
   "metadata": {},
   "outputs": [],
   "source": []
  }
 ],
 "metadata": {
  "kernelspec": {
   "display_name": "Python 3",
   "language": "python",
   "name": "python3"
  },
  "language_info": {
   "codemirror_mode": {
    "name": "ipython",
    "version": 3
   },
   "file_extension": ".py",
   "mimetype": "text/x-python",
   "name": "python",
   "nbconvert_exporter": "python",
   "pygments_lexer": "ipython3",
   "version": "3.7.6"
  }
 },
 "nbformat": 4,
 "nbformat_minor": 4
}
